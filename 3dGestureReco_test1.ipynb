{
  "nbformat": 4,
  "nbformat_minor": 0,
  "metadata": {
    "colab": {
      "provenance": [],
      "authorship_tag": "ABX9TyPxHZ6aR+P9LqlAEboMegUl",
      "include_colab_link": true
    },
    "kernelspec": {
      "name": "python3",
      "display_name": "Python 3"
    },
    "language_info": {
      "name": "python"
    }
  },
  "cells": [
    {
      "cell_type": "markdown",
      "metadata": {
        "id": "view-in-github",
        "colab_type": "text"
      },
      "source": [
        "<a href=\"https://colab.research.google.com/github/BernieHuang2008/3d-gesture-keypoint-detect/blob/main/3dGestureReco_test1.ipynb\" target=\"_parent\"><img src=\"https://colab.research.google.com/assets/colab-badge.svg\" alt=\"Open In Colab\"/></a>"
      ]
    },
    {
      "cell_type": "markdown",
      "source": [
        "CMU DATASET:\n",
        "\n",
        "http://domedb.perception.cs.cmu.edu/panopticDB/hands/hand143_panopticdb.tar"
      ],
      "metadata": {
        "id": "TiRUpo7EN7I5"
      }
    },
    {
      "cell_type": "markdown",
      "source": [
        "[INIT ENV] : Download local dataset"
      ],
      "metadata": {
        "id": "EDKZoWGOPSUd"
      }
    },
    {
      "cell_type": "code",
      "source": [
        "!wget http://domedb.perception.cs.cmu.edu/panopticDB/hands/hand143_panopticdb.tar\n",
        "!tar -xf hand143_panopticdb.tar\n",
        "!rm hand143_panopticdb.tar"
      ],
      "metadata": {
        "id": "7NOMtR98OAcW"
      },
      "execution_count": null,
      "outputs": []
    },
    {
      "cell_type": "markdown",
      "source": [
        "- Run CMU's example to test the dataset."
      ],
      "metadata": {
        "id": "sL4PuRI3U2Nn"
      }
    },
    {
      "cell_type": "code",
      "source": [
        "import os\n",
        "import os.path\n",
        "import numpy as np\n",
        "import json\n",
        "import matplotlib\n",
        "import matplotlib.pyplot as plt\n",
        "\n",
        "%matplotlib inline\n",
        "plt.rcParams['figure.figsize'] = (20,20)\n",
        "plt.rcParams['image.interpolation'] = 'nearest'\n",
        "plt.rcParams['image.cmap'] = 'gray'\n",
        "\n",
        "edges = [[0,1],[1,2],[2,3],[3,4],[0,5],[5,6],[6,7],[7,8],[0,9],[9,10],[10,11],[11,12],[0,13],[13,14],[14,15],[15,16],[0,17],[17,18],[18,19],[19,20]]\n",
        "\n",
        "outpath = './output_viz/'\n",
        "if not os.path.isdir(outpath):\n",
        "    os.makedirs(outpath)\n",
        "\n",
        "# Input data paths\n",
        "folderPath = 'hand143_panopticdb/' #Put your local path here\n",
        "jsonPath = folderPath + 'hands_v143_14817.json'\n",
        "\n",
        "with open(jsonPath, 'r') as fid:\n",
        "    dat_all = json.load(fid)\n",
        "    dat_all = dat_all['root']\n",
        "\n",
        "\n",
        "dat = dat_all[0]; #Choose one element as an example;\n",
        "pts = np.array(dat['joint_self'])\n",
        "invalid = pts[:,2]!=1\n",
        "\n",
        "\n",
        "imgPath = folderPath + dat['img_paths'];\n",
        "# Plot annotations\n",
        "plt.clf()\n",
        "im = plt.imread(imgPath)\n",
        "plt.imshow(im)\n",
        "\n",
        "for p in range(pts.shape[0]):\n",
        "    if pts[p,2]!=0:\n",
        "        plt.plot(pts[p,0], pts[p,1],'r.')\n",
        "        plt.text(pts[p,0], pts[p,1], '{0}'.format(p))\n",
        "for ie, e in enumerate(edges):\n",
        "    if np.all(pts[e,2]!=0):\n",
        "        rgb = matplotlib.colors.hsv_to_rgb([ie/float(len(edges)),1.0,1.0])\n",
        "        plt.plot(pts[e,0],pts[e,1],color=rgb)\n",
        "plt.axis('off')\n",
        "dat['img_paths']\n",
        "plt.savefig(outpath+dat['img_paths'][5:-5]+'.jpg', bbox_inches='tight')"
      ],
      "metadata": {
        "id": "GVys89wcTpU7"
      },
      "execution_count": null,
      "outputs": []
    },
    {
      "cell_type": "markdown",
      "source": [
        "[INIT ENV] : Install dependencies."
      ],
      "metadata": {
        "id": "i1257ocpZnhY"
      }
    },
    {
      "cell_type": "code",
      "source": [
        "!pip install tensorflow"
      ],
      "metadata": {
        "id": "lE3Bxqr4Zvtv"
      },
      "execution_count": null,
      "outputs": []
    },
    {
      "cell_type": "markdown",
      "source": [
        "[MODEL] : Construct the model."
      ],
      "metadata": {
        "id": "1n4jg9xvdBu8"
      }
    },
    {
      "cell_type": "code",
      "source": [
        "import tensorflow as tf\n",
        "\n",
        "model = tf.keras.Model()\n"
      ],
      "metadata": {
        "id": "SzHYih8Ca3Tn"
      },
      "execution_count": null,
      "outputs": []
    }
  ]
}